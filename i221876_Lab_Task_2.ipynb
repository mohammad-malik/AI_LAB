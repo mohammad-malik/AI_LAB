{
  "cells": [
    {
      "cell_type": "markdown",
      "metadata": {
        "id": "v8rqnoOM0NqI"
      },
      "source": [
        "# TASK 1\n",
        "dataset link : https://raw.githubusercontent.com/TirendazAcademy/PANDAS-TUTORIAL/main/DataSets/vgsalesGlobale.csv\n",
        "#Exercise\n",
        "Use the dataset of Game, we have explored earlier and perform following operations.\n",
        "\n",
        "* Calculate the total global sales for all games in the dataset.\n",
        "* Find the game with the highest global sales.\n",
        "* Determine the average sales for each region (NA_Sales, EU_Sales, JP_Sales, Other_Sales).\n",
        "* Find the top 5 most popular game genres based on global sales.\n",
        "* Calculate the total sales for each genre in each region and find the most popular genre in North America (NA_Sales).\n",
        "* Display last 10 rows.\n",
        "* Determine the top 3 gaming platforms with the highest global sales.\n",
        "* Calculate the market share (percentage of global sales) for each genre.\n",
        "* Calculate the correlation coefficient between NA_Sales and EU_Sales. (.corr function)"
      ]
    },
    {
      "cell_type": "markdown",
      "metadata": {},
      "source": [
        "Calculate the total global sales for all games in the dataset.\n"
      ]
    },
    {
      "cell_type": "code",
      "execution_count": 2,
      "metadata": {},
      "outputs": [
        {
          "name": "stdout",
          "output_type": "stream",
          "text": [
            "Total global sales for all games: 8920.44\n"
          ]
        }
      ],
      "source": [
        "import pandas as pd\n",
        "\n",
        "df = pd.read_csv(\"./vgsalesGlobale.csv\")\n",
        "\n",
        "print(f\"Total global sales for all games: {df['Global_Sales'].sum()}\")"
      ]
    },
    {
      "cell_type": "markdown",
      "metadata": {},
      "source": [
        "Find the game with the highest global sales.\n"
      ]
    },
    {
      "cell_type": "code",
      "execution_count": 3,
      "metadata": {},
      "outputs": [
        {
          "name": "stdout",
          "output_type": "stream",
          "text": [
            "Game with highest global sales: Wii Sports\n"
          ]
        }
      ],
      "source": [
        "print(f\"Game with highest global sales: {df['Name'][df['Global_Sales'].idxmax()]}\")"
      ]
    },
    {
      "cell_type": "markdown",
      "metadata": {},
      "source": [
        "Determine the average sales for each region (NA_Sales, EU_Sales, JP_Sales, Other_Sales).\n"
      ]
    },
    {
      "cell_type": "code",
      "execution_count": 4,
      "metadata": {},
      "outputs": [
        {
          "name": "stdout",
          "output_type": "stream",
          "text": [
            "Average sales for NA_Sales: 0.26466742981082064\n",
            "Average sales for EU_Sales: 0.14665200626581515\n",
            "Average sales for JP_Sales: 0.077781660441017\n",
            "Average sales for Other_Sales: 0.0480630196409206\n"
          ]
        }
      ],
      "source": [
        "print(f\"Average sales for NA_Sales: {df['NA_Sales'].mean()}\")\n",
        "print(f\"Average sales for EU_Sales: {df['EU_Sales'].mean()}\")\n",
        "print(f\"Average sales for JP_Sales: {df['JP_Sales'].mean()}\")\n",
        "print(f\"Average sales for Other_Sales: {df['Other_Sales'].mean()}\")"
      ]
    },
    {
      "cell_type": "markdown",
      "metadata": {},
      "source": [
        "Find the top 5 most popular game genres based on global sales.\n"
      ]
    },
    {
      "cell_type": "code",
      "execution_count": 5,
      "metadata": {},
      "outputs": [
        {
          "name": "stdout",
          "output_type": "stream",
          "text": [
            "Top 5 most popular genres based on global sales:      \n",
            "Genre\n",
            "Action          1751.18\n",
            "Sports          1330.93\n",
            "Shooter         1037.37\n",
            "Role-Playing     927.37\n",
            "Platform         831.37\n",
            "Name: Global_Sales, dtype: float64\n"
          ]
        }
      ],
      "source": [
        "print(f\"Top 5 most popular genres based on global sales:\\\n",
        "      \\n{df.groupby('Genre')['Global_Sales'].sum().sort_values(ascending=False).head(5)}\")"
      ]
    },
    {
      "cell_type": "markdown",
      "metadata": {},
      "source": [
        "Calculate the total sales for each genre in each region and find the most popular genre in North America (NA_Sales).\n"
      ]
    },
    {
      "cell_type": "code",
      "execution_count": 6,
      "metadata": {},
      "outputs": [
        {
          "name": "stdout",
          "output_type": "stream",
          "text": [
            "\n",
            "Total Sales for Each Genre in NA \n",
            "Genre\n",
            "Action          877.83\n",
            "Adventure       105.80\n",
            "Fighting        223.59\n",
            "Misc            410.24\n",
            "Platform        447.05\n",
            "Puzzle          123.78\n",
            "Racing          359.42\n",
            "Role-Playing    327.28\n",
            "Shooter         582.60\n",
            "Simulation      183.31\n",
            "Sports          683.35\n",
            "Strategy         68.70\n",
            "Name: NA_Sales, dtype: float64\n",
            "\n",
            "Total Sales for Each Genre in JP: \n",
            "Genre\n",
            "Action          159.95\n",
            "Adventure        52.07\n",
            "Fighting         87.35\n",
            "Misc            107.76\n",
            "Platform        130.77\n",
            "Puzzle           57.31\n",
            "Racing           56.69\n",
            "Role-Playing    352.31\n",
            "Shooter          38.28\n",
            "Simulation       63.70\n",
            "Sports          135.37\n",
            "Strategy         49.46\n",
            "Name: JP_Sales, dtype: float64\n",
            "\n",
            "Total Sales for Each Genre in EU: \n",
            "Genre\n",
            "Action          525.00\n",
            "Adventure        64.13\n",
            "Fighting        101.32\n",
            "Misc            215.98\n",
            "Platform        201.63\n",
            "Puzzle           50.78\n",
            "Racing          238.39\n",
            "Role-Playing    188.06\n",
            "Shooter         313.27\n",
            "Simulation      113.38\n",
            "Sports          376.85\n",
            "Strategy         45.34\n",
            "Name: EU_Sales, dtype: float64\n",
            "\n",
            "Total Sales for Each Genre in Other: \n",
            "Genre\n",
            "Action          187.38\n",
            "Adventure        16.81\n",
            "Fighting         36.68\n",
            "Misc             75.32\n",
            "Platform         51.59\n",
            "Puzzle           12.55\n",
            "Racing           77.27\n",
            "Role-Playing     59.61\n",
            "Shooter         102.69\n",
            "Simulation       31.52\n",
            "Sports          134.97\n",
            "Strategy         11.36\n",
            "Name: Other_Sales, dtype: float64\n",
            "\n",
            "Most Popular genre in North America: Action\n"
          ]
        }
      ],
      "source": [
        "total_genre_sales_NA = df.groupby('Genre')['NA_Sales'].sum()\n",
        "total_genre_sales_EU = df.groupby('Genre')['EU_Sales'].sum()\n",
        "total_genre_sales_JP = df.groupby('Genre')['JP_Sales'].sum()\n",
        "total_genre_sales_Other = df.groupby('Genre')['Other_Sales'].sum()\n",
        "\n",
        "print(f\"\\nTotal Sales for Each Genre in NA \\n{total_genre_sales_NA}\")\n",
        "print(f\"\\nTotal Sales for Each Genre in JP: \\n{total_genre_sales_JP}\")\n",
        "print(f\"\\nTotal Sales for Each Genre in EU: \\n{total_genre_sales_EU}\")\n",
        "print(f\"\\nTotal Sales for Each Genre in Other: \\n{total_genre_sales_Other}\")\n",
        "print(f\"\\nMost Popular genre in North America: {total_genre_sales_NA.idxmax()}\")"
      ]
    },
    {
      "cell_type": "markdown",
      "metadata": {},
      "source": [
        "Display last 10 rows.\n"
      ]
    },
    {
      "cell_type": "code",
      "execution_count": 7,
      "metadata": {},
      "outputs": [
        {
          "data": {
            "text/html": [
              "<div>\n",
              "<style scoped>\n",
              "    .dataframe tbody tr th:only-of-type {\n",
              "        vertical-align: middle;\n",
              "    }\n",
              "\n",
              "    .dataframe tbody tr th {\n",
              "        vertical-align: top;\n",
              "    }\n",
              "\n",
              "    .dataframe thead th {\n",
              "        text-align: right;\n",
              "    }\n",
              "</style>\n",
              "<table border=\"1\" class=\"dataframe\">\n",
              "  <thead>\n",
              "    <tr style=\"text-align: right;\">\n",
              "      <th></th>\n",
              "      <th>Rank</th>\n",
              "      <th>Name</th>\n",
              "      <th>Platform</th>\n",
              "      <th>Year</th>\n",
              "      <th>Genre</th>\n",
              "      <th>Publisher</th>\n",
              "      <th>NA_Sales</th>\n",
              "      <th>EU_Sales</th>\n",
              "      <th>JP_Sales</th>\n",
              "      <th>Other_Sales</th>\n",
              "      <th>Global_Sales</th>\n",
              "    </tr>\n",
              "  </thead>\n",
              "  <tbody>\n",
              "    <tr>\n",
              "      <th>16588</th>\n",
              "      <td>16591</td>\n",
              "      <td>Mega Brain Boost</td>\n",
              "      <td>DS</td>\n",
              "      <td>2008.0</td>\n",
              "      <td>Puzzle</td>\n",
              "      <td>Majesco Entertainment</td>\n",
              "      <td>0.01</td>\n",
              "      <td>0.00</td>\n",
              "      <td>0.00</td>\n",
              "      <td>0.0</td>\n",
              "      <td>0.01</td>\n",
              "    </tr>\n",
              "    <tr>\n",
              "      <th>16589</th>\n",
              "      <td>16592</td>\n",
              "      <td>Chou Ezaru wa Akai Hana: Koi wa Tsuki ni Shiru...</td>\n",
              "      <td>PSV</td>\n",
              "      <td>2016.0</td>\n",
              "      <td>Action</td>\n",
              "      <td>dramatic create</td>\n",
              "      <td>0.00</td>\n",
              "      <td>0.00</td>\n",
              "      <td>0.01</td>\n",
              "      <td>0.0</td>\n",
              "      <td>0.01</td>\n",
              "    </tr>\n",
              "    <tr>\n",
              "      <th>16590</th>\n",
              "      <td>16593</td>\n",
              "      <td>Eiyuu Densetsu: Sora no Kiseki Material Collec...</td>\n",
              "      <td>PSP</td>\n",
              "      <td>2007.0</td>\n",
              "      <td>Role-Playing</td>\n",
              "      <td>Falcom Corporation</td>\n",
              "      <td>0.00</td>\n",
              "      <td>0.00</td>\n",
              "      <td>0.01</td>\n",
              "      <td>0.0</td>\n",
              "      <td>0.01</td>\n",
              "    </tr>\n",
              "    <tr>\n",
              "      <th>16591</th>\n",
              "      <td>16594</td>\n",
              "      <td>Myst IV: Revelation</td>\n",
              "      <td>PC</td>\n",
              "      <td>2004.0</td>\n",
              "      <td>Adventure</td>\n",
              "      <td>Ubisoft</td>\n",
              "      <td>0.01</td>\n",
              "      <td>0.00</td>\n",
              "      <td>0.00</td>\n",
              "      <td>0.0</td>\n",
              "      <td>0.01</td>\n",
              "    </tr>\n",
              "    <tr>\n",
              "      <th>16592</th>\n",
              "      <td>16595</td>\n",
              "      <td>Plushees</td>\n",
              "      <td>DS</td>\n",
              "      <td>2008.0</td>\n",
              "      <td>Simulation</td>\n",
              "      <td>Destineer</td>\n",
              "      <td>0.01</td>\n",
              "      <td>0.00</td>\n",
              "      <td>0.00</td>\n",
              "      <td>0.0</td>\n",
              "      <td>0.01</td>\n",
              "    </tr>\n",
              "    <tr>\n",
              "      <th>16593</th>\n",
              "      <td>16596</td>\n",
              "      <td>Woody Woodpecker in Crazy Castle 5</td>\n",
              "      <td>GBA</td>\n",
              "      <td>2002.0</td>\n",
              "      <td>Platform</td>\n",
              "      <td>Kemco</td>\n",
              "      <td>0.01</td>\n",
              "      <td>0.00</td>\n",
              "      <td>0.00</td>\n",
              "      <td>0.0</td>\n",
              "      <td>0.01</td>\n",
              "    </tr>\n",
              "    <tr>\n",
              "      <th>16594</th>\n",
              "      <td>16597</td>\n",
              "      <td>Men in Black II: Alien Escape</td>\n",
              "      <td>GC</td>\n",
              "      <td>2003.0</td>\n",
              "      <td>Shooter</td>\n",
              "      <td>Infogrames</td>\n",
              "      <td>0.01</td>\n",
              "      <td>0.00</td>\n",
              "      <td>0.00</td>\n",
              "      <td>0.0</td>\n",
              "      <td>0.01</td>\n",
              "    </tr>\n",
              "    <tr>\n",
              "      <th>16595</th>\n",
              "      <td>16598</td>\n",
              "      <td>SCORE International Baja 1000: The Official Game</td>\n",
              "      <td>PS2</td>\n",
              "      <td>2008.0</td>\n",
              "      <td>Racing</td>\n",
              "      <td>Activision</td>\n",
              "      <td>0.00</td>\n",
              "      <td>0.00</td>\n",
              "      <td>0.00</td>\n",
              "      <td>0.0</td>\n",
              "      <td>0.01</td>\n",
              "    </tr>\n",
              "    <tr>\n",
              "      <th>16596</th>\n",
              "      <td>16599</td>\n",
              "      <td>Know How 2</td>\n",
              "      <td>DS</td>\n",
              "      <td>2010.0</td>\n",
              "      <td>Puzzle</td>\n",
              "      <td>7G//AMES</td>\n",
              "      <td>0.00</td>\n",
              "      <td>0.01</td>\n",
              "      <td>0.00</td>\n",
              "      <td>0.0</td>\n",
              "      <td>0.01</td>\n",
              "    </tr>\n",
              "    <tr>\n",
              "      <th>16597</th>\n",
              "      <td>16600</td>\n",
              "      <td>Spirits &amp; Spells</td>\n",
              "      <td>GBA</td>\n",
              "      <td>2003.0</td>\n",
              "      <td>Platform</td>\n",
              "      <td>Wanadoo</td>\n",
              "      <td>0.01</td>\n",
              "      <td>0.00</td>\n",
              "      <td>0.00</td>\n",
              "      <td>0.0</td>\n",
              "      <td>0.01</td>\n",
              "    </tr>\n",
              "  </tbody>\n",
              "</table>\n",
              "</div>"
            ],
            "text/plain": [
              "        Rank                                               Name Platform  \\\n",
              "16588  16591                                   Mega Brain Boost       DS   \n",
              "16589  16592  Chou Ezaru wa Akai Hana: Koi wa Tsuki ni Shiru...      PSV   \n",
              "16590  16593  Eiyuu Densetsu: Sora no Kiseki Material Collec...      PSP   \n",
              "16591  16594                                Myst IV: Revelation       PC   \n",
              "16592  16595                                           Plushees       DS   \n",
              "16593  16596                 Woody Woodpecker in Crazy Castle 5      GBA   \n",
              "16594  16597                      Men in Black II: Alien Escape       GC   \n",
              "16595  16598   SCORE International Baja 1000: The Official Game      PS2   \n",
              "16596  16599                                         Know How 2       DS   \n",
              "16597  16600                                   Spirits & Spells      GBA   \n",
              "\n",
              "         Year         Genre              Publisher  NA_Sales  EU_Sales  \\\n",
              "16588  2008.0        Puzzle  Majesco Entertainment      0.01      0.00   \n",
              "16589  2016.0        Action        dramatic create      0.00      0.00   \n",
              "16590  2007.0  Role-Playing     Falcom Corporation      0.00      0.00   \n",
              "16591  2004.0     Adventure                Ubisoft      0.01      0.00   \n",
              "16592  2008.0    Simulation              Destineer      0.01      0.00   \n",
              "16593  2002.0      Platform                  Kemco      0.01      0.00   \n",
              "16594  2003.0       Shooter             Infogrames      0.01      0.00   \n",
              "16595  2008.0        Racing             Activision      0.00      0.00   \n",
              "16596  2010.0        Puzzle               7G//AMES      0.00      0.01   \n",
              "16597  2003.0      Platform                Wanadoo      0.01      0.00   \n",
              "\n",
              "       JP_Sales  Other_Sales  Global_Sales  \n",
              "16588      0.00          0.0          0.01  \n",
              "16589      0.01          0.0          0.01  \n",
              "16590      0.01          0.0          0.01  \n",
              "16591      0.00          0.0          0.01  \n",
              "16592      0.00          0.0          0.01  \n",
              "16593      0.00          0.0          0.01  \n",
              "16594      0.00          0.0          0.01  \n",
              "16595      0.00          0.0          0.01  \n",
              "16596      0.00          0.0          0.01  \n",
              "16597      0.00          0.0          0.01  "
            ]
          },
          "execution_count": 7,
          "metadata": {},
          "output_type": "execute_result"
        }
      ],
      "source": [
        "df.tail(10)"
      ]
    },
    {
      "cell_type": "markdown",
      "metadata": {},
      "source": [
        "Determine the top 3 gaming platforms with the highest global sales.\n"
      ]
    },
    {
      "cell_type": "code",
      "execution_count": 8,
      "metadata": {},
      "outputs": [
        {
          "name": "stdout",
          "output_type": "stream",
          "text": [
            "Top 3 most popular gaming platform based on global sales:      \n",
            "Platform\n",
            "PS2     1255.64\n",
            "X360     979.96\n",
            "PS3      957.84\n",
            "Name: Global_Sales, dtype: float64\n"
          ]
        }
      ],
      "source": [
        "print(f\"Top 3 most popular gaming platform based on global sales:\\\n",
        "      \\n{df.groupby('Platform')['Global_Sales'].sum().sort_values(ascending=False).head(3)}\")"
      ]
    },
    {
      "cell_type": "markdown",
      "metadata": {},
      "source": [
        "Calculate the market share (percentage of global sales) for each genre.\n"
      ]
    },
    {
      "cell_type": "code",
      "execution_count": 9,
      "metadata": {},
      "outputs": [
        {
          "name": "stdout",
          "output_type": "stream",
          "text": [
            "Genre\n",
            "Action          19.631094\n",
            "Adventure        2.679688\n",
            "Fighting         5.032375\n",
            "Misc             9.079821\n",
            "Platform         9.319832\n",
            "Puzzle           2.745941\n",
            "Racing           8.206322\n",
            "Role-Playing    10.396012\n",
            "Shooter         11.629135\n",
            "Simulation       4.396644\n",
            "Sports          14.920004\n",
            "Strategy         1.963132\n",
            "Name: Global_Sales, dtype: float64\n"
          ]
        }
      ],
      "source": [
        "genre_globalsales = df.groupby(\"Genre\")['Global_Sales'].sum()\n",
        "genre_marketshare = genre_globalsales / df['Global_Sales'].sum() * 100\n",
        "print(genre_marketshare)"
      ]
    },
    {
      "cell_type": "markdown",
      "metadata": {},
      "source": [
        "Calculate the correlation coefficient between NA_Sales and EU_Sales. (.corr function)\n"
      ]
    },
    {
      "cell_type": "code",
      "execution_count": null,
      "metadata": {},
      "outputs": [
        {
          "name": "stdout",
          "output_type": "stream",
          "text": [
            "Correlation coefficient between NA Sales and EU Sales: 0.767726748370264\n"
          ]
        }
      ],
      "source": [
        "print(f\"Correlation coefficient between NA Sales and EU Sales: {df['NA_Sales'].corr(df['EU_Sales'])}\")"
      ]
    },
    {
      "cell_type": "markdown",
      "metadata": {
        "id": "TAcoA0P60GrS"
      },
      "source": [
        "## Task 2 English-Spanish Dictionary\n",
        "You are creating a basic English-Spanish dictionary that allows users to look up English words and find their Spanish translations.\n",
        "\n",
        "\n",
        "### Tasks\n",
        "* Create a dictionary where English words are keys and their Spanish translations are values.\n",
        "* Ask the user to input an English word.\n",
        "* Check if the word exists in the dictionary.\n",
        "* If the word exists, print its Spanish translation.\n",
        "* If the word does not exist, inform the user that the translation is not available.\n",
        "* Implement a loop that allows the user to keep looking up words until they choose to exit.\n"
      ]
    },
    {
      "cell_type": "code",
      "execution_count": 13,
      "metadata": {},
      "outputs": [
        {
          "name": "stdout",
          "output_type": "stream",
          "text": [
            "Spanish translation: hola\n"
          ]
        }
      ],
      "source": [
        "dictionary = {\n",
        "    \"hello\": \"hola\",\n",
        "    \"goodbye\": \"adiós\",\n",
        "    \"please\": \"por favor\",\n",
        "    \"thank you\": \"gracias\",\n",
        "    \"yes\": \"sí\",\n",
        "    \"no\": \"no\",\n",
        "    \"morning\": \"mañana\",\n",
        "    \"night\": \"noche\",\n",
        "    \"food\": \"comida\",\n",
        "    \"water\": \"agua\"\n",
        "}\n",
        "\n",
        "while(True):\n",
        "    user_input = input(\"Enter an English word (or press enter to exit): \") or \"EXIT\"\n",
        "    if user_input == \"EXIT\":\n",
        "        break\n",
        "    \n",
        "    if user_input in dictionary:\n",
        "        print(f\"Spanish translation: {dictionary[user_input]}\")\n",
        "    else:\n",
        "        print(\"Translation not available\")"
      ]
    },
    {
      "cell_type": "markdown",
      "metadata": {
        "id": "l7D9aut90G_C"
      },
      "source": [
        "\n",
        "## Task 3 Email Classification\n",
        "Develope a tool which will classify an email.\n",
        "\n",
        "### Tasks:\n",
        "* Create a function classify_emails that takes a list of emails as an argument.\n",
        "* Inside the function, categorize emails into \"Important,\" \"Promotions,\" and \"Spam\" based on keywords and content analysis.\n",
        "* Loop through the emails and identify keywords to determine their category.\n",
        "* If an email contains keywords indicating importance, assign it as \"Important.\"\n",
        "* If an email contains keywords related to promotions or deals, assign it as \"Promotions.\"\n",
        "* If an email is suspected to be spam based on certain keywords or patterns, assign it as \"Spam.\"\n",
        "* Return three lists of emails for each category.\n",
        "* Print the lists."
      ]
    },
    {
      "cell_type": "code",
      "execution_count": 15,
      "metadata": {},
      "outputs": [],
      "source": [
        "def classify_emails(emails: list):\n",
        "    important_emails = []\n",
        "    promotional_emails = []\n",
        "    spam_emails = []\n",
        "    \n",
        "    for email in emails:\n",
        "        if ['Important', 'Urgent'] in email.tolower():\n",
        "            important_emails.append(email)\n",
        "        elif [r'% off', 'offer', 'discount', 'deal', 'promotion'] in email.tolower():\n",
        "            promotional_emails.append(email)\n",
        "        elif ['lottery', 'prize'] in email.tolower():\n",
        "            spam_emails.append(email)\n",
        "    \n",
        "    print(f\"Important emails: {important_emails}\")\n",
        "    print(f\"Promotional Emails: {promotional_emails}\")\n",
        "    print(f\"Spam Emails: {spam_emails}\")\n",
        "    \n",
        "    return important_emails, promotional_emails, spam_emails\n"
      ]
    },
    {
      "cell_type": "markdown",
      "metadata": {
        "id": "0brD8K130gh8"
      },
      "source": [
        "## Task 4 Online Store Shopping Cart\n",
        "Write a Python program to simulate the online store's shopping cart system. The program should use a while loop to provide an interactive shopping experience.\n",
        "\n",
        "\n",
        "### Tasks:\n",
        "* Initialize an empty list called shopping_cart to store items.\n",
        "* Display a welcome message and available products.\n",
        "* Loop should be iterating over AI Response Simulator and Investment decision and keep asking for user input.\n",
        "* Prompt the user to enter the number corresponding to the product they want to add to the cart.\n",
        "* Check if the user entered 'q'. If so, break the loop.\n",
        "* Convert the choice to an integer and validate it within the valid range (1 to 3).\n",
        "* Based on the user's choice, add the selected product to the shopping_cart list.\n",
        "* Display a confirmation message indicating the added product.\n",
        "* Continue the loop to allow the user to add more products or proceed to checkout.\n",
        "* After the loop ends, display the contents of the shopping cart.\n",
        "* Display a goodbye message.\n",
        "* End the program."
      ]
    },
    {
      "cell_type": "code",
      "execution_count": 18,
      "metadata": {},
      "outputs": [
        {
          "name": "stdout",
          "output_type": "stream",
          "text": [
            "Welcome to the Online Store!\n",
            "Available products:\n",
            "1. AI Response Simulator\n",
            "2. Investment Decision\n",
            "3. Exit\n",
            "AI Response Simulator has been added to your cart.\n",
            "Investment Decision has been added to your cart.\n",
            "AI Response Simulator has been added to your cart.\n",
            "AI Response Simulator has been added to your cart.\n",
            "\n",
            "Your shopping cart contains:\n",
            "['AI Response Simulator', 'Investment Decision', 'AI Response Simulator', 'AI Response Simulator']\n",
            "Thank you for shopping with us! Goodbye!\n"
          ]
        }
      ],
      "source": [
        "shopping_cart = []\n",
        "\n",
        "print(\"Welcome to the Online Store!\")\n",
        "print(\"Available products:\")\n",
        "print(\"1. AI Response Simulator\")\n",
        "print(\"2. Investment Decision\")\n",
        "print(\"3. Exit\")\n",
        "\n",
        "while True:\n",
        "    choice = input(\"Enter the ID of the product you want to add to the cart (or 'q' to quit): \") or 'q'\n",
        "\n",
        "    if choice.lower() == 'q':\n",
        "        break\n",
        "\n",
        "\n",
        "    choice = int(choice)\n",
        "    if choice < 1 or choice > 3:\n",
        "        print(\"Invalid choice. Please enter a number between 1 and 3.\")\n",
        "        continue\n",
        "\n",
        "    if choice == 1:\n",
        "        shopping_cart.append(\"AI Response Simulator\")\n",
        "        print(\"AI Response Simulator has been added to your cart.\")\n",
        "    \n",
        "    elif choice == 2:\n",
        "        shopping_cart.append(\"Investment Decision\")\n",
        "        print(\"Investment Decision has been added to your cart.\")\n",
        "    \n",
        "    elif choice == 3:\n",
        "        break\n",
        "\n",
        "print(\"\\nYour shopping cart contains:\")\n",
        "print(shopping_cart)\n",
        "\n",
        "print(\"Thank you for shopping!\")"
      ]
    },
    {
      "cell_type": "markdown",
      "metadata": {
        "id": "2u1i-sXA0mYb"
      },
      "source": [
        "## Task 5\n",
        "* Create two NumPy arrays of the same shape and perform element-wise addition on them.\n",
        "* Calculate the element-wise product of two NumPy arrays."
      ]
    },
    {
      "cell_type": "code",
      "execution_count": 20,
      "metadata": {},
      "outputs": [
        {
          "name": "stdout",
          "output_type": "stream",
          "text": [
            "[ 6  8 10 12]\n",
            "[ 5 12 21 32]\n"
          ]
        }
      ],
      "source": [
        "import numpy as np\n",
        "\n",
        "\n",
        "arr1 = np.array([1, 2, 3, 4])\n",
        "arr2 = np.array([5, 6, 7, 8])\n",
        "\n",
        "print(arr1 + arr2)\n",
        "print(arr1 * arr2)"
      ]
    },
    {
      "cell_type": "markdown",
      "metadata": {
        "id": "bhV4sIZU1Iui"
      },
      "source": [
        "## Task 6\n"
      ]
    },
    {
      "cell_type": "markdown",
      "metadata": {},
      "source": [
        "Reshape a 1D NumPy array into a 2D array with dimensions (3, 4).\n"
      ]
    },
    {
      "cell_type": "code",
      "execution_count": 22,
      "metadata": {},
      "outputs": [
        {
          "name": "stdout",
          "output_type": "stream",
          "text": [
            "[[ 1  2  3  4]\n",
            " [ 5  6  7  8]\n",
            " [ 9 10 11 12]]\n"
          ]
        }
      ],
      "source": [
        "arr1D = np.array([1, 2, 3, 4, 5, 6, 7, 8, 9, 10, 11, 12])\n",
        "arr2D = arr1D.reshape(3, 4)\n",
        "print(arr2D)"
      ]
    },
    {
      "cell_type": "markdown",
      "metadata": {},
      "source": [
        "Concatenate two NumPy arrays horizontally and vertically."
      ]
    },
    {
      "cell_type": "code",
      "execution_count": 43,
      "metadata": {},
      "outputs": [
        {
          "name": "stdout",
          "output_type": "stream",
          "text": [
            "Horizontal Concatenation: [1 2 3 4 5 6 7 8]\n",
            "Vertical Concatenation: \n",
            "[[1 2 3 4]\n",
            " [5 6 7 8]]\n"
          ]
        }
      ],
      "source": [
        "\n",
        "horizontal_conc = np.concatenate((arr1, arr2))\n",
        "vertical_conc = np.concatenate((arr1.reshape(1,4), arr2.reshape(1, 4)))\n",
        "\n",
        "print(f\"Horizontal Concatenation: {horizontal_conc}\")\n",
        "print(f\"Vertical Concatenation: \\n{vertical_conc}\")"
      ]
    },
    {
      "cell_type": "markdown",
      "metadata": {
        "id": "HJYa0CKL1bGi"
      },
      "source": [
        "## Task 7\n",
        "* Reverse A List In Python Using Slicing\n"
      ]
    },
    {
      "cell_type": "code",
      "execution_count": 20,
      "metadata": {},
      "outputs": [
        {
          "name": "stdout",
          "output_type": "stream",
          "text": [
            "[5, 4, 3, 2, 1]\n"
          ]
        }
      ],
      "source": [
        "l = [1, 2, 3, 4, 5]\n",
        "print(l[::-1])"
      ]
    },
    {
      "cell_type": "markdown",
      "metadata": {
        "id": "hkrCxw4XSRl0"
      },
      "source": [
        "# TASK 8\n",
        "You need to download the GitHub Desktop software, push your lab task to your GitHub account, and share the link on GCR as a submission."
      ]
    }
  ],
  "metadata": {
    "colab": {
      "provenance": []
    },
    "kernelspec": {
      "display_name": "datamining",
      "language": "python",
      "name": "python3"
    },
    "language_info": {
      "codemirror_mode": {
        "name": "ipython",
        "version": 3
      },
      "file_extension": ".py",
      "mimetype": "text/x-python",
      "name": "python",
      "nbconvert_exporter": "python",
      "pygments_lexer": "ipython3",
      "version": "3.13.1"
    }
  },
  "nbformat": 4,
  "nbformat_minor": 0
}
